{
 "cells": [
  {
   "cell_type": "code",
   "execution_count": 21,
   "metadata": {
    "slideshow": {
     "slide_type": "-"
    }
   },
   "outputs": [],
   "source": [
    "import sqlite3\n",
    "\n",
    "from numba import jitclass, float64, int64, optional\n",
    "from slumba import sqlite_udaf, create_aggregate"
   ]
  },
  {
   "cell_type": "code",
   "execution_count": 22,
   "metadata": {},
   "outputs": [],
   "source": [
    "@sqlite_udaf(optional(float64)(optional(float64)))\n",
    "@jitclass([('total', float64), ('count', int64)])\n",
    "class Avg:\n",
    "    def __init__(self):\n",
    "        self.total = 0.0\n",
    "        self.count = 0\n",
    "        \n",
    "    def step(self, value):\n",
    "        if value is not None:\n",
    "            self.total += value\n",
    "            self.count += 1\n",
    "        \n",
    "    def finalize(self):\n",
    "        count = self.count\n",
    "        if count > 0:\n",
    "            return self.total / count\n",
    "        return None\n",
    "    \n",
    "    def value(self):\n",
    "        return self.finalize()\n",
    "    \n",
    "    def inverse(self, value):\n",
    "        if value is not None:\n",
    "            self.total -= value\n",
    "            self.count -= 1"
   ]
  },
  {
   "cell_type": "code",
   "execution_count": 23,
   "metadata": {},
   "outputs": [],
   "source": [
    "con = sqlite3.connect(':memory:')"
   ]
  },
  {
   "cell_type": "code",
   "execution_count": 24,
   "metadata": {},
   "outputs": [],
   "source": [
    "create_aggregate(con, 'my_avg', 1, Avg)"
   ]
  },
  {
   "cell_type": "code",
   "execution_count": 25,
   "metadata": {},
   "outputs": [
    {
     "data": {
      "text/html": [
       "<div>\n",
       "<style scoped>\n",
       "    .dataframe tbody tr th:only-of-type {\n",
       "        vertical-align: middle;\n",
       "    }\n",
       "\n",
       "    .dataframe tbody tr th {\n",
       "        vertical-align: top;\n",
       "    }\n",
       "\n",
       "    .dataframe thead th {\n",
       "        text-align: right;\n",
       "    }\n",
       "</style>\n",
       "<table border=\"1\" class=\"dataframe\">\n",
       "  <thead>\n",
       "    <tr style=\"text-align: right;\">\n",
       "      <th></th>\n",
       "      <th>my_udaf</th>\n",
       "      <th>builtin_udaf</th>\n",
       "    </tr>\n",
       "  </thead>\n",
       "  <tbody>\n",
       "    <tr>\n",
       "      <th>0</th>\n",
       "      <td>NaN</td>\n",
       "      <td>NaN</td>\n",
       "    </tr>\n",
       "    <tr>\n",
       "      <th>1</th>\n",
       "      <td>1.0</td>\n",
       "      <td>1.0</td>\n",
       "    </tr>\n",
       "    <tr>\n",
       "      <th>2</th>\n",
       "      <td>1.5</td>\n",
       "      <td>1.5</td>\n",
       "    </tr>\n",
       "  </tbody>\n",
       "</table>\n",
       "</div>"
      ],
      "text/plain": [
       "   my_udaf  builtin_udaf\n",
       "0      NaN           NaN\n",
       "1      1.0           1.0\n",
       "2      1.5           1.5"
      ]
     },
     "execution_count": 25,
     "metadata": {},
     "output_type": "execute_result"
    }
   ],
   "source": [
    "rowiter = con.execute(\"\"\"\n",
    "WITH t AS (\n",
    "  SELECT 1 AS c UNION\n",
    "  SELECT 2 AS c UNION\n",
    "  SELECT NULL AS c\n",
    ")\n",
    "SELECT my_avg(c) OVER (ORDER BY c) AS my_udaf,\n",
    "       avg(c) OVER (ORDER BY c) AS builtin_udaf\n",
    "FROM t\n",
    "\"\"\")\n",
    "pd.DataFrame(list(rowiter), columns=['my_udaf', 'builtin_udaf'])"
   ]
  }
 ],
 "metadata": {
  "kernelspec": {
   "display_name": "Python 3",
   "language": "python",
   "name": "python3"
  },
  "language_info": {
   "codemirror_mode": {
    "name": "ipython",
    "version": 3
   },
   "file_extension": ".py",
   "mimetype": "text/x-python",
   "name": "python",
   "nbconvert_exporter": "python",
   "pygments_lexer": "ipython3",
   "version": "3.6.6"
  }
 },
 "nbformat": 4,
 "nbformat_minor": 2
}
